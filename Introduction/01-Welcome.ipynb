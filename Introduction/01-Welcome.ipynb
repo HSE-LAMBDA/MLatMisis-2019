{
  "nbformat": 4,
  "nbformat_minor": 0,
  "metadata": {
    "colab": {
      "name": "Welcome.ipynb",
      "provenance": [],
      "collapsed_sections": [],
      "toc_visible": true,
      "include_colab_link": true
    },
    "kernelspec": {
      "name": "python3",
      "display_name": "Python 3"
    }
  },
  "cells": [
    {
      "cell_type": "markdown",
      "metadata": {
        "id": "view-in-github",
        "colab_type": "text"
      },
      "source": [
        "<a href=\"https://colab.research.google.com/github/HSE-LAMBDA/MLatMisis-2019/blob/master/Introduction/01-Welcome.ipynb\" target=\"_parent\"><img src=\"https://colab.research.google.com/assets/colab-badge.svg\" alt=\"Open In Colab\"/></a>"
      ]
    },
    {
      "cell_type": "markdown",
      "metadata": {
        "id": "n_nitmHugcSH",
        "colab_type": "text"
      },
      "source": [
        "# Welcome"
      ]
    },
    {
      "cell_type": "markdown",
      "metadata": {
        "id": "pfojW1Laghph",
        "colab_type": "text"
      },
      "source": [
        "During the practical session on the data analysis we are going to use [Python programming language](https://www.python.org) in the [Google Colab environment](https://colab.research.google.com).\n",
        " \n",
        " If you are new to Python, please consider reading through the follosing tutorial:\n",
        " - https://docs.python.org/3.6/tutorial/\n",
        "\n",
        "In particular, the following parts of it should provide a more or less comprehensive introduction to the must-know basics:\n",
        "   - https://docs.python.org/3.6/tutorial/introduction.html\n",
        "   - https://docs.python.org/3.6/tutorial/controlflow.html\n",
        "   - https://docs.python.org/3.6/tutorial/datastructures.html\n",
        "   - https://docs.python.org/3.6/tutorial/modules.html\n",
        "\n"
      ]
    },
    {
      "cell_type": "markdown",
      "metadata": {
        "id": "wNKpO_suinc-",
        "colab_type": "text"
      },
      "source": [
        "An overview of basic features of the Google Colab environment can be found [here](https://colab.research.google.com/notebooks/basic_features_overview.ipynb)."
      ]
    },
    {
      "cell_type": "markdown",
      "metadata": {
        "id": "YdeKlZBujiKN",
        "colab_type": "text"
      },
      "source": [
        "# A few brief examples"
      ]
    },
    {
      "cell_type": "markdown",
      "metadata": {
        "id": "eJgglc3Rqswh",
        "colab_type": "text"
      },
      "source": [
        "In this section we're just throwing a few basic examples at you, without much explanation. Make sure you run the cells below. Try experimenting with these examples, modify them with different numbers, operations etc."
      ]
    },
    {
      "cell_type": "markdown",
      "metadata": {
        "id": "RqOTq_6hjkyP",
        "colab_type": "text"
      },
      "source": [
        "## Using python as calculator"
      ]
    },
    {
      "cell_type": "code",
      "metadata": {
        "id": "JVfrJYBHgbXG",
        "colab_type": "code",
        "colab": {}
      },
      "source": [
        "1 + 2"
      ],
      "execution_count": 0,
      "outputs": []
    },
    {
      "cell_type": "code",
      "metadata": {
        "id": "YhdP8Ksajr7q",
        "colab_type": "code",
        "colab": {}
      },
      "source": [
        "5 * (3 - 1)"
      ],
      "execution_count": 0,
      "outputs": []
    },
    {
      "cell_type": "code",
      "metadata": {
        "id": "mWdxx3vjjwNJ",
        "colab_type": "code",
        "colab": {}
      },
      "source": [
        "2**3"
      ],
      "execution_count": 0,
      "outputs": []
    },
    {
      "cell_type": "code",
      "metadata": {
        "id": "lmTFsTApj2zC",
        "colab_type": "code",
        "colab": {}
      },
      "source": [
        "\"Hello\" + \" \" + \"world\""
      ],
      "execution_count": 0,
      "outputs": []
    },
    {
      "cell_type": "markdown",
      "metadata": {
        "id": "gVRXRn6QkU18",
        "colab_type": "text"
      },
      "source": [
        "## Variables"
      ]
    },
    {
      "cell_type": "code",
      "metadata": {
        "id": "51LslOEhkWsJ",
        "colab_type": "code",
        "colab": {}
      },
      "source": [
        "a = 1\n",
        "b = 2\n",
        "c = a / b\n",
        "\n",
        "print(a, b, c)\n",
        "\n",
        "# Note that `c` has different type (float) compared to `a` and `b` (which are of integer type)\n",
        "print(type(a), type(b), type(c))"
      ],
      "execution_count": 0,
      "outputs": []
    },
    {
      "cell_type": "code",
      "metadata": {
        "id": "wHbXRpmEk4Ba",
        "colab_type": "code",
        "colab": {}
      },
      "source": [
        "print(a == b)\n",
        "print(a + 1 > b)\n",
        "print(a + 1 >= b)\n",
        "print(type(a + 1 > b))"
      ],
      "execution_count": 0,
      "outputs": []
    },
    {
      "cell_type": "markdown",
      "metadata": {
        "id": "xtEdQYzzkPK5",
        "colab_type": "text"
      },
      "source": [
        "## Loops and interables"
      ]
    },
    {
      "cell_type": "code",
      "metadata": {
        "id": "pUary3TNkAYj",
        "colab_type": "code",
        "colab": {}
      },
      "source": [
        "a = 0\n",
        "\n",
        "while a < 10:\n",
        "  a += 1\n",
        "  print(a**2)"
      ],
      "execution_count": 0,
      "outputs": []
    },
    {
      "cell_type": "code",
      "metadata": {
        "id": "-Z4twE06lHgr",
        "colab_type": "code",
        "colab": {}
      },
      "source": [
        "a = [1, 2, 3, 'Hello']\n",
        "\n",
        "for i in a:\n",
        "  print(i, type(i))\n",
        "\n",
        "print(type(a))"
      ],
      "execution_count": 0,
      "outputs": []
    },
    {
      "cell_type": "code",
      "metadata": {
        "id": "Z1jg1HSuliJT",
        "colab_type": "code",
        "colab": {}
      },
      "source": [
        "a = []\n",
        "for i in range(5):\n",
        "  a.append(i)\n",
        "print(a)"
      ],
      "execution_count": 0,
      "outputs": []
    },
    {
      "cell_type": "code",
      "metadata": {
        "id": "vjkYAJBFlXA9",
        "colab_type": "code",
        "colab": {}
      },
      "source": [
        "a = []\n",
        "for i in range(1, 20, 3):\n",
        "  a.insert(0, i)\n",
        "print(a)"
      ],
      "execution_count": 0,
      "outputs": []
    },
    {
      "cell_type": "markdown",
      "metadata": {
        "id": "rHKmw61Il80a",
        "colab_type": "text"
      },
      "source": [
        "## Functions"
      ]
    },
    {
      "cell_type": "code",
      "metadata": {
        "id": "igddBBlblfkO",
        "colab_type": "code",
        "colab": {}
      },
      "source": [
        "def my_function(x):\n",
        "  return x**2\n",
        "\n",
        "# For such simple functions one may use lambdas:\n",
        "my_lambda_function = lambda x: x**2\n",
        "\n",
        "for i in range(5):\n",
        "  print(my_function(i), my_lambda_function(i))"
      ],
      "execution_count": 0,
      "outputs": []
    },
    {
      "cell_type": "markdown",
      "metadata": {
        "id": "4pNRGgxv3ABa",
        "colab_type": "text"
      },
      "source": [
        "# A bit more comprehensive intro"
      ]
    },
    {
      "cell_type": "markdown",
      "metadata": {
        "id": "vr0nTYTtrZ02",
        "colab_type": "text"
      },
      "source": [
        "In this section we'll show you a few more examples, now with a bit of explanation. Please run the cells and follow the instructions below."
      ]
    },
    {
      "cell_type": "markdown",
      "metadata": {
        "id": "_H8HstR39gRm",
        "colab_type": "text"
      },
      "source": [
        "### Basic types and operations"
      ]
    },
    {
      "cell_type": "markdown",
      "metadata": {
        "id": "1Nlg4jJyl7ag",
        "colab_type": "text"
      },
      "source": [
        "Now, let's start with defining some variables of basic types:"
      ]
    },
    {
      "cell_type": "code",
      "metadata": {
        "id": "a4bOzlpl-UCk",
        "colab_type": "code",
        "colab": {}
      },
      "source": [
        "# Anything after a '#' is a comment\n",
        "\n",
        "# integers:\n",
        "a1 = 1 # Define an integer variable named 'a1' of value 1\n",
        "a2 = -42\n",
        "\n",
        "# floats:\n",
        "b = 1.0\n",
        "c = .5\n",
        "d = 8.\n",
        "e = 1.2e3\n",
        "\n",
        "print(a1, a2)\n",
        "print(b)\n",
        "print(c)\n",
        "print(d)\n",
        "print(e)"
      ],
      "execution_count": 0,
      "outputs": []
    },
    {
      "cell_type": "code",
      "metadata": {
        "id": "pEscnUhk-T1a",
        "colab_type": "code",
        "colab": {}
      },
      "source": [
        "# complex numbers:\n",
        "c1 = 2 + 3j\n",
        "c2 = 1/1j\n",
        "print(c1)\n",
        "print(c2)"
      ],
      "execution_count": 0,
      "outputs": []
    },
    {
      "cell_type": "code",
      "metadata": {
        "id": "G8aupHIm-Too",
        "colab_type": "code",
        "colab": {}
      },
      "source": [
        "# strings\n",
        "f1 = 'Hello!'\n",
        "f2 = \"Hi\"\n",
        "g = \"\"\"Hi there!\n",
        "I'm a multiline string!\"\"\"\n",
        "h = 'foo' 'bar'\n",
        "i = '\"'\"'\"'\"'\"'\"\"'\"'\"'\"'\"'\"'\n",
        "\n",
        "print(f1, f2)\n",
        "print(g)\n",
        "print(h)\n",
        "print(i)"
      ],
      "execution_count": 0,
      "outputs": []
    },
    {
      "cell_type": "code",
      "metadata": {
        "id": "n5M1ZaJgQWGJ",
        "colab_type": "code",
        "colab": {}
      },
      "source": [
        "# booleans\n",
        "j = True\n",
        "k = False\n",
        "l = j == k\n",
        "\n",
        "print(j, k, l)"
      ],
      "execution_count": 0,
      "outputs": []
    },
    {
      "cell_type": "code",
      "metadata": {
        "id": "S5Sg3FEynV-d",
        "colab_type": "code",
        "colab": {}
      },
      "source": [
        "# In case you want to check variable type:\n",
        "print(type(a1))\n",
        "print(type(e))"
      ],
      "execution_count": 0,
      "outputs": []
    },
    {
      "cell_type": "code",
      "metadata": {
        "id": "FUdV_HZn8U67",
        "colab_type": "code",
        "colab": {}
      },
      "source": [
        "# YOUR CODE HERE\n",
        "#  - print out the type of other variables we've defined above\n",
        "#  - print out the type of 'print' function\n",
        "#  - print out the type of 'type' function"
      ],
      "execution_count": 0,
      "outputs": []
    },
    {
      "cell_type": "code",
      "metadata": {
        "id": "v4g9Jol3nnVk",
        "colab_type": "code",
        "colab": {}
      },
      "source": [
        "# Operations:\n",
        "print(2 + 2)\n",
        "print(2 - 2)\n",
        "print(2 * 2)\n",
        "print(1 / 2) # note that python is smart enough to convert integer to float here\n",
        "print(7 // 3) # floor division\n",
        "print(2019 % 100) # remainder of division\n",
        "print(2**4) # exponentiation\n",
        "\n",
        "\n",
        "a = 1\n",
        "b = 2\n",
        "# Some string operations and formatting:\n",
        "print(\"Hello \" + \"world!\")\n",
        "print(\"%i + %i = %i\" % (a, b, a + b))\n",
        "print(\"{} + {} = {}\".format(a, b, a + b))\n",
        "print(\"{var_a} + {var_b} = {a_plus_b_result}\".format(\n",
        "    a_plus_b_result=a+b, var_a=a, var_b=b))\n",
        "print(\"1 + 2 = %.4f\" % (1 + 2))\n",
        "print(\"1 + 2 = {:.4f}\".format(1 + 2))\n"
      ],
      "execution_count": 0,
      "outputs": []
    },
    {
      "cell_type": "markdown",
      "metadata": {
        "id": "FuUDOWzF3tJA",
        "colab_type": "text"
      },
      "source": [
        "Note that after a cell execution the value of the last expression will be printed out, so you don't always have to use the `print` function:"
      ]
    },
    {
      "cell_type": "code",
      "metadata": {
        "id": "BA8Cjjf3n9at",
        "colab_type": "code",
        "colab": {}
      },
      "source": [
        "a = 1\n",
        "b = 2\n",
        "a + b"
      ],
      "execution_count": 0,
      "outputs": []
    },
    {
      "cell_type": "markdown",
      "metadata": {
        "id": "MKP-eUtY4QNp",
        "colab_type": "text"
      },
      "source": [
        "Unless you finish a line with a semicolon:"
      ]
    },
    {
      "cell_type": "code",
      "metadata": {
        "id": "RTvObVSS4PVU",
        "colab_type": "code",
        "colab": {}
      },
      "source": [
        "a + b;"
      ],
      "execution_count": 0,
      "outputs": []
    },
    {
      "cell_type": "markdown",
      "metadata": {
        "id": "_XbtNJNo4kls",
        "colab_type": "text"
      },
      "source": [
        "We've defined a number of variables so far. Here's how you can list all of them (+ some internals of python):"
      ]
    },
    {
      "cell_type": "code",
      "metadata": {
        "id": "nRVS4csJ4jJN",
        "colab_type": "code",
        "colab": {}
      },
      "source": [
        "dir()"
      ],
      "execution_count": 0,
      "outputs": []
    },
    {
      "cell_type": "markdown",
      "metadata": {
        "id": "v0aNEFQY5f8t",
        "colab_type": "text"
      },
      "source": [
        "In general, one-letter variable names is a bad practice. It's preferable to give your variables meaningful names.\n",
        "\n",
        "Let's get rid of all the variables we've defined by restarting the runtime. You can do this by clicking the `Runtime->Restart runtime...` menu item.\n",
        "\n",
        "Now `dir()` should have gotten rid of these variables:"
      ]
    },
    {
      "cell_type": "code",
      "metadata": {
        "id": "kS5VvAoN6JVL",
        "colab_type": "code",
        "colab": {}
      },
      "source": [
        "dir()"
      ],
      "execution_count": 0,
      "outputs": []
    },
    {
      "cell_type": "markdown",
      "metadata": {
        "id": "NsvDiBuY5Gtt",
        "colab_type": "text"
      },
      "source": [
        "Note: **Be careful with your variable names!** Python allows you to use the built-in function names for your variables, which can mess things up:"
      ]
    },
    {
      "cell_type": "code",
      "metadata": {
        "id": "cFa4gcsu6q88",
        "colab_type": "code",
        "colab": {}
      },
      "source": [
        "print = False\n",
        "print"
      ],
      "execution_count": 0,
      "outputs": []
    },
    {
      "cell_type": "markdown",
      "metadata": {
        "id": "OD2vKRLB7hlN",
        "colab_type": "text"
      },
      "source": [
        "At this point you can't use the `print` function for output:"
      ]
    },
    {
      "cell_type": "code",
      "metadata": {
        "id": "bxwMGoZX6wJV",
        "colab_type": "code",
        "colab": {}
      },
      "source": [
        "print(10)"
      ],
      "execution_count": 0,
      "outputs": []
    },
    {
      "cell_type": "markdown",
      "metadata": {
        "id": "EO4sArU37q8x",
        "colab_type": "text"
      },
      "source": [
        "One way of fixing this is to reset the runtime as we did before. Another way is to use the `del` statement:"
      ]
    },
    {
      "cell_type": "code",
      "metadata": {
        "id": "EdkDrH1F7nwS",
        "colab_type": "code",
        "colab": {}
      },
      "source": [
        "del print\n",
        "print(10)"
      ],
      "execution_count": 0,
      "outputs": []
    },
    {
      "cell_type": "markdown",
      "metadata": {
        "id": "zEwxe19U_Ihq",
        "colab_type": "text"
      },
      "source": [
        "### Composite types"
      ]
    },
    {
      "cell_type": "markdown",
      "metadata": {
        "id": "00Wdm1BEAGSa",
        "colab_type": "text"
      },
      "source": [
        "We'll start with lists - they represent arrays of objects:"
      ]
    },
    {
      "cell_type": "code",
      "metadata": {
        "id": "QF4pb46M8Fr9",
        "colab_type": "code",
        "colab": {}
      },
      "source": [
        "array1 = [1, 2, -3, 'hello', 4e5, 8j, False]\n",
        "print(array1)\n",
        "print(type(array1))"
      ],
      "execution_count": 0,
      "outputs": []
    },
    {
      "cell_type": "markdown",
      "metadata": {
        "id": "A7vGe8lDANd3",
        "colab_type": "text"
      },
      "source": [
        "Addition means concatenation for lists:"
      ]
    },
    {
      "cell_type": "code",
      "metadata": {
        "id": "LInAFaHm_zld",
        "colab_type": "code",
        "colab": {}
      },
      "source": [
        "print(array1 + array1)"
      ],
      "execution_count": 0,
      "outputs": []
    },
    {
      "cell_type": "markdown",
      "metadata": {
        "id": "ZZsLKJhKAQgm",
        "colab_type": "text"
      },
      "source": [
        "Another way of adding elements to a list (inplace) is by using the `append` method:"
      ]
    },
    {
      "cell_type": "code",
      "metadata": {
        "id": "zz8V3id3_98u",
        "colab_type": "code",
        "colab": {}
      },
      "source": [
        "array1.append('world')\n",
        "array1"
      ],
      "execution_count": 0,
      "outputs": []
    },
    {
      "cell_type": "markdown",
      "metadata": {
        "id": "Avjrs7C0AdWo",
        "colab_type": "text"
      },
      "source": [
        "Lists can contain other lists:"
      ]
    },
    {
      "cell_type": "code",
      "metadata": {
        "id": "eM5_GSw0Ab7J",
        "colab_type": "code",
        "colab": {}
      },
      "source": [
        "array2 = [[True, False], ['Hello'], 42]\n",
        "array2"
      ],
      "execution_count": 0,
      "outputs": []
    },
    {
      "cell_type": "markdown",
      "metadata": {
        "id": "6eX11ZlxBDV4",
        "colab_type": "text"
      },
      "source": [
        "or even be recursive:"
      ]
    },
    {
      "cell_type": "code",
      "metadata": {
        "id": "or2i50-QBC0L",
        "colab_type": "code",
        "colab": {}
      },
      "source": [
        "array2.append(array2)\n",
        "array2"
      ],
      "execution_count": 0,
      "outputs": []
    },
    {
      "cell_type": "markdown",
      "metadata": {
        "id": "PM0ukvotBLfE",
        "colab_type": "text"
      },
      "source": [
        "Here's how you can index lists (indexing starts with 0):"
      ]
    },
    {
      "cell_type": "code",
      "metadata": {
        "id": "nFI445r_BBh1",
        "colab_type": "code",
        "colab": {}
      },
      "source": [
        "print(array1[0]) # first item\n",
        "print(array1[-1]) # last item\n",
        "print(array1[-2]) # one before last"
      ],
      "execution_count": 0,
      "outputs": []
    },
    {
      "cell_type": "markdown",
      "metadata": {
        "id": "-Q9kn_sOC55y",
        "colab_type": "text"
      },
      "source": [
        "You can also slice lists:"
      ]
    },
    {
      "cell_type": "code",
      "metadata": {
        "id": "nWi3Ce3SC2xZ",
        "colab_type": "code",
        "colab": {}
      },
      "source": [
        "print(array1[1:6:2]) # most general form - every 2nd element from 1 to 6\n",
        "print(array1[2::3]) # elements from 2 to the end with step 3\n",
        "print(array1[::2]) # every 2nd element starting from 0\n",
        "print(array1[::-1]) # all list in reverse order\n",
        "print(array1[2:5]) # elements from 2 to 5 (not including 5)\n",
        "print(array1[-2:]) # last two elements of the list"
      ],
      "execution_count": 0,
      "outputs": []
    },
    {
      "cell_type": "markdown",
      "metadata": {
        "id": "1vJVR34SD4Ux",
        "colab_type": "text"
      },
      "source": [
        "A very similar type is called \"tuple\". Similarly to lists, tuples are arrays of objects. The major difference is that they are **immutable**."
      ]
    },
    {
      "cell_type": "code",
      "metadata": {
        "id": "nony88Y4CsoI",
        "colab_type": "code",
        "colab": {}
      },
      "source": [
        "tuple1 = (1, 2, 'foo')\n",
        "tuple2 = tuple(array2) # You can initialize tuples with lists and vice versa\n",
        "print(tuple1)\n",
        "print(tuple2)"
      ],
      "execution_count": 0,
      "outputs": []
    },
    {
      "cell_type": "markdown",
      "metadata": {
        "id": "4wgK4O_QEwpv",
        "colab_type": "text"
      },
      "source": [
        "Note that inner lists from `array2` are stored as lists within the `tuple2`, so they are mutable:"
      ]
    },
    {
      "cell_type": "code",
      "metadata": {
        "id": "vShUqu8SEc_7",
        "colab_type": "code",
        "colab": {}
      },
      "source": [
        "tuple2[0].append(8)\n",
        "print(tuple2)"
      ],
      "execution_count": 0,
      "outputs": []
    },
    {
      "cell_type": "markdown",
      "metadata": {
        "id": "h_BsFBKRFTYE",
        "colab_type": "text"
      },
      "source": [
        "Also note, that the first item in `array2` has changed as well:"
      ]
    },
    {
      "cell_type": "code",
      "metadata": {
        "id": "Va_HqVsmFIjX",
        "colab_type": "code",
        "colab": {}
      },
      "source": [
        "array2"
      ],
      "execution_count": 0,
      "outputs": []
    },
    {
      "cell_type": "markdown",
      "metadata": {
        "id": "LVnOMmgQFkqm",
        "colab_type": "text"
      },
      "source": [
        "This illustrates a very important feature of python: all objects are stored by reference. Since `tuple2` was initialized from `array2`, they both reference the same object instances."
      ]
    },
    {
      "cell_type": "markdown",
      "metadata": {
        "id": "4TtM9brjGQAR",
        "colab_type": "text"
      },
      "source": [
        "You can check whether two variables are referencing the same object with `is` operator:"
      ]
    },
    {
      "cell_type": "code",
      "metadata": {
        "id": "9mbgGuc0Fbgh",
        "colab_type": "code",
        "colab": {}
      },
      "source": [
        "print(array2[-1] is array2)\n",
        "print(tuple2[0] is array2[0])"
      ],
      "execution_count": 0,
      "outputs": []
    },
    {
      "cell_type": "markdown",
      "metadata": {
        "id": "lwGbXShSHUAo",
        "colab_type": "text"
      },
      "source": [
        "Two empty tuples created with `tuple()` expression will reference the same object:"
      ]
    },
    {
      "cell_type": "code",
      "metadata": {
        "id": "QOQ71ETcHmpX",
        "colab_type": "code",
        "colab": {}
      },
      "source": [
        "tuple() is tuple()"
      ],
      "execution_count": 0,
      "outputs": []
    },
    {
      "cell_type": "markdown",
      "metadata": {
        "id": "GeTA_nFSHqOI",
        "colab_type": "text"
      },
      "source": [
        "while two empty lists won't, since lists are mutable (and the two empty list instances may be changed in a different way):"
      ]
    },
    {
      "cell_type": "code",
      "metadata": {
        "id": "s1TzcRMwHofA",
        "colab_type": "code",
        "colab": {}
      },
      "source": [
        "list() is list()"
      ],
      "execution_count": 0,
      "outputs": []
    },
    {
      "cell_type": "markdown",
      "metadata": {
        "id": "D_71MZB0NiOP",
        "colab_type": "text"
      },
      "source": [
        "Another important type is dictionary. Dictionaries are key->value mappings with a restriction that keys can only be immutable objects.\n",
        "\n",
        "Several ways to create and fill a dictionary:"
      ]
    },
    {
      "cell_type": "code",
      "metadata": {
        "id": "v6WfRilNHuWR",
        "colab_type": "code",
        "colab": {}
      },
      "source": [
        "dict1 = {\"foo\" : 'bar', -3 : False}\n",
        "dict2 = dict(foo='bar', hello='world')\n",
        "\n",
        "print(dict1)\n",
        "print(dict2)"
      ],
      "execution_count": 0,
      "outputs": []
    },
    {
      "cell_type": "markdown",
      "metadata": {
        "id": "2SELmRyoOe3_",
        "colab_type": "text"
      },
      "source": [
        "Accessing elements:"
      ]
    },
    {
      "cell_type": "code",
      "metadata": {
        "id": "Nmmm2ErNObj7",
        "colab_type": "code",
        "colab": {}
      },
      "source": [
        "print(dict1[-3])\n",
        "print(dict2['foo'])\n",
        "\n",
        "dict2['new_key'] = 'new_value'\n",
        "print(dict2)"
      ],
      "execution_count": 0,
      "outputs": []
    },
    {
      "cell_type": "markdown",
      "metadata": {
        "id": "EVScmD0WOx7Y",
        "colab_type": "text"
      },
      "source": [
        "### Loops, conditionals, functions"
      ]
    },
    {
      "cell_type": "markdown",
      "metadata": {
        "id": "tFQEd2ylO-8A",
        "colab_type": "text"
      },
      "source": [
        "A loop over elements of a list:"
      ]
    },
    {
      "cell_type": "code",
      "metadata": {
        "id": "_yO1tD-mOt5V",
        "colab_type": "code",
        "colab": {}
      },
      "source": [
        "objects = [1, 2, 'hello', False]\n",
        "\n",
        "for obj in objects:\n",
        "  print(obj)\n",
        "  # Note that the body of the loop is indented."
      ],
      "execution_count": 0,
      "outputs": []
    },
    {
      "cell_type": "markdown",
      "metadata": {
        "id": "8qd7noUBPfiY",
        "colab_type": "text"
      },
      "source": [
        "Use the `range` function to iterate over spcified range of numbers:"
      ]
    },
    {
      "cell_type": "code",
      "metadata": {
        "id": "dmCu-COkPVJ5",
        "colab_type": "code",
        "colab": {}
      },
      "source": [
        "for i in range(5):\n",
        "  print(i)"
      ],
      "execution_count": 0,
      "outputs": []
    },
    {
      "cell_type": "markdown",
      "metadata": {
        "id": "-XwmCqJRQEZB",
        "colab_type": "text"
      },
      "source": [
        "N.B.: `range` has more arguments. Place the cursor right after the opening bracket and hit **TAB** to see help:"
      ]
    },
    {
      "cell_type": "code",
      "metadata": {
        "id": "jsnZXCXWQDDl",
        "colab_type": "code",
        "colab": {}
      },
      "source": [
        "for i in range(# <--- press TAB\n",
        "# YOUR CODE HERE:\n",
        "# print all the numbers: 20, 23, 26... up to 60"
      ],
      "execution_count": 0,
      "outputs": []
    },
    {
      "cell_type": "markdown",
      "metadata": {
        "id": "ZikK4DnZQqqW",
        "colab_type": "text"
      },
      "source": [
        "Conditions:"
      ]
    },
    {
      "cell_type": "code",
      "metadata": {
        "id": "mpk_kkcIQqQf",
        "colab_type": "code",
        "colab": {}
      },
      "source": [
        "for i in range(100):\n",
        "  if i % 7 == 1 and i % 5 == 3:\n",
        "    print(\"i % 7 == 1 and i % 5 == 3:\", i)\n",
        "  if not (i > 3) or i > 98:\n",
        "    print(\"not (i > 3) or i > 98:\", i)"
      ],
      "execution_count": 0,
      "outputs": []
    },
    {
      "cell_type": "code",
      "metadata": {
        "id": "zOolnUZeOMdc",
        "colab_type": "code",
        "colab": {}
      },
      "source": [
        "array1 = [3, 15, 27, 42]\n",
        "array2 = []\n",
        "\n",
        "for i in range(30):\n",
        "  if i in array1:\n",
        "    array2.append(i**2)\n",
        "\n",
        "print(array2)"
      ],
      "execution_count": 0,
      "outputs": []
    },
    {
      "cell_type": "markdown",
      "metadata": {
        "id": "8NITSV_CO0-S",
        "colab_type": "text"
      },
      "source": [
        "Functions:"
      ]
    },
    {
      "cell_type": "code",
      "metadata": {
        "id": "Xn5yZ3ZNOt7R",
        "colab_type": "code",
        "colab": {}
      },
      "source": [
        "# definition:\n",
        "def some_function(argument1, argument2):\n",
        "  print(argument1 + argument2)\n",
        "\n",
        "# calls:\n",
        "some_function(3, 8)\n",
        "some_function(['foo'], ['bar'])"
      ],
      "execution_count": 0,
      "outputs": []
    },
    {
      "cell_type": "markdown",
      "metadata": {
        "id": "0mofkWp6PVTu",
        "colab_type": "text"
      },
      "source": [
        "Arguments with default values:"
      ]
    },
    {
      "cell_type": "code",
      "metadata": {
        "id": "mm4QBW3DPJlO",
        "colab_type": "code",
        "colab": {}
      },
      "source": [
        "def some_function(argument1, argument2=42):\n",
        "  print(\"{} ----- {}\".format(argument1, argument2))\n",
        "\n",
        "some_function(18)\n",
        "some_function(18, 19)\n",
        "some_function(argument2=19, argument1=18)\n",
        "\n",
        "some_function(some_function)\n"
      ],
      "execution_count": 0,
      "outputs": []
    },
    {
      "cell_type": "markdown",
      "metadata": {
        "id": "fzt2uWp9bdKL",
        "colab_type": "text"
      },
      "source": [
        "Function returning a value:"
      ]
    },
    {
      "cell_type": "code",
      "metadata": {
        "id": "uWBhj7B3bbvN",
        "colab_type": "code",
        "colab": {}
      },
      "source": [
        "def square(x):\n",
        "  return x**2\n",
        "\n",
        "for i in range(4):\n",
        "  print(square(i))"
      ],
      "execution_count": 0,
      "outputs": []
    },
    {
      "cell_type": "markdown",
      "metadata": {
        "id": "AQVipi_9SDBR",
        "colab_type": "text"
      },
      "source": [
        "# Tasks"
      ]
    },
    {
      "cell_type": "markdown",
      "metadata": {
        "id": "oB-AV1muSlVP",
        "colab_type": "text"
      },
      "source": [
        "## Task 1"
      ]
    },
    {
      "cell_type": "markdown",
      "metadata": {
        "id": "a57M3R8qQpTr",
        "colab_type": "text"
      },
      "source": [
        "Now you should be equipped well enough to solve this famous job interview problem:\n",
        "\n",
        "\n",
        "\n",
        "> Write a function called `FooBar` that takes input integer `n` and for all the numbers from 1 upto `n` prints in a new line:\n",
        "*   \"Foo\", if the number is divisible by 3;\n",
        "*   \"Bar\", if the number is divisible by 5;\n",
        "*   \"FooBar\", if the number is divisible by both 3 and 5;\n",
        "*   the number itself otherwise.\n",
        "\n",
        "> For example FooBar(15) should print as follows: \n",
        "```1 \n",
        "2 \n",
        "Foo \n",
        "4 \n",
        "Bar \n",
        "Foo \n",
        "7 \n",
        "8 \n",
        "Foo \n",
        "Bar \n",
        "11 \n",
        "Foo \n",
        "13 \n",
        "14 \n",
        "FooBar\n",
        "```\n",
        "\n",
        "\n",
        "\n",
        "\n",
        "\n"
      ]
    },
    {
      "cell_type": "code",
      "metadata": {
        "id": "_zd8CQzEPwKk",
        "colab_type": "code",
        "colab": {}
      },
      "source": [
        "# Your code here"
      ],
      "execution_count": 0,
      "outputs": []
    },
    {
      "cell_type": "markdown",
      "metadata": {
        "id": "BjLyprScauk5",
        "colab_type": "text"
      },
      "source": [
        "## Task 2"
      ]
    },
    {
      "cell_type": "markdown",
      "metadata": {
        "id": "NTxZz0UhcHQk",
        "colab_type": "text"
      },
      "source": [
        "Write a function calculating the factorial of an integer number.\n",
        "\n",
        "*Suggestion: use recursion.*"
      ]
    },
    {
      "cell_type": "code",
      "metadata": {
        "id": "IhXkCdvDcdaH",
        "colab_type": "code",
        "colab": {}
      },
      "source": [
        "# Your code here"
      ],
      "execution_count": 0,
      "outputs": []
    },
    {
      "cell_type": "markdown",
      "metadata": {
        "id": "cZ3xv_5Mcfyc",
        "colab_type": "text"
      },
      "source": [
        "## Task 3"
      ]
    },
    {
      "cell_type": "markdown",
      "metadata": {
        "id": "3pw6Zh7CaxM6",
        "colab_type": "text"
      },
      "source": [
        "Write a function that takes two numbers `m` and `n`, and a list `array`,  appends `m` to `array` `n` times, and returns the result."
      ]
    },
    {
      "cell_type": "code",
      "metadata": {
        "id": "YAYd3skXawL7",
        "colab_type": "code",
        "colab": {}
      },
      "source": [
        "# Your code here"
      ],
      "execution_count": 0,
      "outputs": []
    },
    {
      "cell_type": "markdown",
      "metadata": {
        "id": "cwi1tAOSejh9",
        "colab_type": "text"
      },
      "source": [
        "Modify the function you wrote such that the `array` argument is optional (the function should append to an empty list in case array is not provided).\n",
        "\n",
        "*Hint: make sure the result is correct when you make several subsequent calls without providing the `array` argument.*"
      ]
    },
    {
      "cell_type": "code",
      "metadata": {
        "id": "GE6Yh7sCex_Y",
        "colab_type": "code",
        "colab": {}
      },
      "source": [
        "# Your code here"
      ],
      "execution_count": 0,
      "outputs": []
    }
  ]
}